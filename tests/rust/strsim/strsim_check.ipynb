{
 "cells": [
  {
   "cell_type": "code",
   "execution_count": 1,
   "metadata": {},
   "outputs": [],
   "source": [
    "import jaro\n",
    "import rltk.similarity as sim\n",
    "import py_stringmatching.similarity_measure.jaro_winkler\n",
    "import py_stringmatching.similarity_measure.jaro\n",
    "# import rapidfuzz.distance\n",
    "import py_stringmatching.similarity_measure.monge_elkan\n",
    "from grams.core.strsim import jaro_winkler_similarity, monge_elkan_similarity, CharacterTokenizer, jaro_similarity\n",
    "\n",
    "tok = CharacterTokenizer()"
   ]
  },
  {
   "cell_type": "code",
   "execution_count": 2,
   "metadata": {},
   "outputs": [],
   "source": [
    "key = \"United Kingdom\"\n",
    "query = \"Sengenia (United Kingdom)\"\n",
    "query = 'Embecosm (United Kingdom)'\n",
    "query = \"Landcatch Natural Selection\"\n",
    "key, query = 'Dance of the Dwarfs', 'Dance of Death:  The Abbot'\n",
    "key, query = 'United Kingdom', 'UK'\n",
    "key, query = 'United', 'UK'"
   ]
  },
  {
   "attachments": {},
   "cell_type": "markdown",
   "metadata": {},
   "source": [
    "jaro winkler"
   ]
  },
  {
   "cell_type": "code",
   "execution_count": 3,
   "metadata": {},
   "outputs": [
    {
     "name": "stdout",
     "output_type": "stream",
     "text": [
      "0.5555555555555555\n",
      "0.6000000238418579\n",
      "0.5555555555555555\n",
      "0.5555555555555555\n"
     ]
    }
   ],
   "source": [
    "print(sim.jaro_winkler_similarity(key, query, threshold=0.7, scaling_factor=0.1, prefix_len=4))\n",
    "jw = py_stringmatching.similarity_measure.jaro_winkler.JaroWinkler(); print(jw.get_raw_score(key, query))\n",
    "print(jaro.jaro_winkler_metric(key, query))\n",
    "print(jaro_winkler_similarity(tok.tokenize(key), tok.tokenize(query), threshold=0.7, scaling_factor=0.1, prefix_len=4))\n",
    "# print(rapidfuzz.distance.JaroWinkler.similarity(key, query, score_cutoff=0.7, prefix_weight=0.1))"
   ]
  },
  {
   "attachments": {},
   "cell_type": "markdown",
   "metadata": {},
   "source": [
    "jaro"
   ]
  },
  {
   "cell_type": "code",
   "execution_count": 6,
   "metadata": {},
   "outputs": [
    {
     "name": "stdout",
     "output_type": "stream",
     "text": [
      "0.5555555555555555\n",
      "0.5555555820465088\n",
      "0.5555555555555555\n",
      "0.5555555555555555\n"
     ]
    }
   ],
   "source": [
    "print(sim.jaro_distance(key, query))\n",
    "print(py_stringmatching.similarity_measure.jaro.Jaro().get_raw_score(key, query))\n",
    "print(jaro.jaro_metric(key, query))\n",
    "print(jaro_similarity(tok.tokenize(key), tok.tokenize(query)))\n",
    "# print(rapidfuzz.distance.Jaro.similarity(key, query))"
   ]
  },
  {
   "cell_type": "code",
   "execution_count": 11,
   "metadata": {},
   "outputs": [
    {
     "name": "stdout",
     "output_type": "stream",
     "text": [
      "0.5738095343112946\n",
      "0.5515873015873015\n",
      "0.5738095343112946\n"
     ]
    }
   ],
   "source": [
    "# print(sim.monge_elkan_similarity(key.split(\" \"), query.split(\" \"), function=jaro.jaro_winkler_metric))\n",
    "print(sim.monge_elkan_similarity(key.split(\" \"), query.split(\" \"), function=jw.get_sim_score))\n",
    "print(sim.monge_elkan_similarity(key.split(\" \"), query.split(\" \"), function=lambda x, y: jaro_winkler_similarity(tok.tokenize(x), tok.tokenize(y))))\n",
    "print(py_stringmatching.similarity_measure.monge_elkan.MongeElkan().get_raw_score(key.split(\" \"), query.split(\" \")))"
   ]
  },
  {
   "cell_type": "code",
   "execution_count": 12,
   "metadata": {},
   "outputs": [
    {
     "name": "stdout",
     "output_type": "stream",
     "text": [
      "United UK 0.5555555555555555 0.6000000238418579\n",
      "Kingdom UK 0.5476190476190476 0.5476190447807312\n"
     ]
    }
   ],
   "source": [
    "for x in key.split(\" \"):\n",
    "    for y in query.split(\" \"):\n",
    "        # print(x, y, jaro.jaro_winkler_metric(x, y), jw.get_raw_score(x, y))\n",
    "        # print(x, y, jaro.jaro_metric(x, y), py_stringmatching.similarity_measure.jaro.Jaro().get_raw_score(x, y))\n",
    "        print(x, y, jaro_winkler_similarity(tok.tokenize(x), tok.tokenize(y)), jw.get_raw_score(x, y))"
   ]
  }
 ],
 "metadata": {
  "kernelspec": {
   "display_name": ".venv",
   "language": "python",
   "name": "python3"
  },
  "language_info": {
   "codemirror_mode": {
    "name": "ipython",
    "version": 3
   },
   "file_extension": ".py",
   "mimetype": "text/x-python",
   "name": "python",
   "nbconvert_exporter": "python",
   "pygments_lexer": "ipython3",
   "version": "3.9.15"
  },
  "orig_nbformat": 4
 },
 "nbformat": 4,
 "nbformat_minor": 2
}
