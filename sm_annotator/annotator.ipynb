{
 "cells": [
  {
   "cell_type": "code",
   "execution_count": 1,
   "metadata": {},
   "outputs": [],
   "source": [
    "import orjson\n",
    "from IPython.display import Javascript, display, HTML, JSON\n",
    "from ipycallback import SlowTunnelWidget\n",
    "from labext.prelude import A as LEA\n",
    "from sm_unk.prelude import D\n",
    "from sm_unk.config import WIKIDATA_DIR\n",
    "from sm_annotator.annotator import Annotator\n",
    "from sm_unk.dev.wikitable2wikidata.prelude import *\n",
    "from kg_data.prelude import redis, wikidata\n",
    "%load_ext autoreload\n",
    "%autoreload 2"
   ]
  },
  {
   "cell_type": "code",
   "execution_count": 2,
   "metadata": {},
   "outputs": [],
   "source": [
    "tbl_store = redis.DBPediaTableStore.get_instance()\n",
    "qnode_store = redis.WikiDataStore.get_instance()\n",
    "ontclasses_store = redis.WDClassStore.get_instance()\n",
    "ontprops_store = redis.WDPropertyStore.get_instance()"
   ]
  },
  {
   "cell_type": "raw",
   "metadata": {},
   "source": [
    "freq_stats = M.deserialize_jl(WIKIDATA_DIR + \"/ontology/freq_stats.jl\")\n",
    "freq_stats = {x['class']: x for x in freq_stats}"
   ]
  },
  {
   "cell_type": "raw",
   "metadata": {
    "jupyter": {
     "source_hidden": true
    }
   },
   "source": [
    "props = freq_stats['Q12140']['props']\n",
    "print(freq_stats['Q12140']['count'])\n",
    "lst = sorted([(\"%s: %s (%s) - %s\" % (p, predicates[p].label, predicates[p].datatype, c), c) for p, c in props.items() if predicates[p].datatype != 'external-id'], key=lambda x: x[1], reverse=True)"
   ]
  },
  {
   "cell_type": "raw",
   "metadata": {
    "jupyter": {
     "source_hidden": true
    }
   },
   "source": [
    "JSON([x for x, y in lst])"
   ]
  },
  {
   "cell_type": "raw",
   "metadata": {
    "jupyter": {
     "source_hidden": true
    }
   },
   "source": [
    "predicates = M.deserialize_jl(WIKIDATA_DIR + \"/ontology/properties.jl\")\n",
    "predicates = {x['id']: x for x in predicates}"
   ]
  },
  {
   "cell_type": "raw",
   "metadata": {
    "jupyter": {
     "source_hidden": true
    }
   },
   "source": [
    "super_classes = M.deserialize_json(WIKIDATA_DIR + \"/ontology/superclasses_closure.json\")\n",
    "for k in tqdm(super_classes):\n",
    "    super_classes[k] = set(super_classes[k])\n",
    "    \n",
    "super_predicates = M.deserialize_json(WIKIDATA_DIR + \"/ontology/superproperties_closure.json\")\n",
    "for k in tqdm(super_predicates):\n",
    "    super_predicates[k] = set(super_predicates[k])"
   ]
  },
  {
   "cell_type": "raw",
   "metadata": {},
   "source": [
    "indir: str = str(HOME_DIR / \"wikitable2wikidata/tables/s2_devset\")\n",
    "# indir = HOME_DIR / \"wikitable2wikidata/ethiopia_tables\"\n",
    "tables = [\n",
    "    Table.deser_str(r)\n",
    "    for r in tqdm(M.deserialize_lines(os.path.join(indir, \"tables.jl\"), n_lines=20))\n",
    "]"
   ]
  },
  {
   "cell_type": "raw",
   "metadata": {},
   "source": [
    "def view(i):\n",
    "    tbl = tables[i]\n",
    "    w2wtable = W2WTable.from_dbpedia_table(tbl)\n",
    "    w2wtable = run_one_table(w2wtable, qnode_store)\n",
    "    sm = annotate_table(w2wtable, qnode_store)\n",
    "#     sm = None\n",
    "    print(i)\n",
    "    annotator = Annotator(qnode_store, ontclasses_store, ontprops_store, 'rook', 'discover@!')\n",
    "    annotator.render()\n",
    "    annotator.set_data(w2wtable, sm)\n",
    "\n",
    "LEA.slider(view, min=7, max=len(tables) - 1)"
   ]
  },
  {
   "cell_type": "raw",
   "metadata": {
    "jupyter": {
     "source_hidden": true
    }
   },
   "source": [
    "for table in tables:\n",
    "    id = table.wikipediaURL\n",
    "    id = id[id.find(\"/wiki/\")+len(\"/wiki/\"):]\n",
    "    M.serialize_csv(table.to_list(), HOME_DIR / f\"wikitable2wikidata/ethiopia_tables/tmp/{id}.csv\")"
   ]
  },
  {
   "cell_type": "code",
   "execution_count": 4,
   "metadata": {},
   "outputs": [],
   "source": [
    "dataset_dir = HOME_DIR / \"wikitable2wikidata/tables/s2_devset\"\n",
    "# dataset_dir = HOME_DIR / \"wikitable2wikidata/ethiopia_tables\""
   ]
  },
  {
   "cell_type": "code",
   "execution_count": 5,
   "metadata": {},
   "outputs": [],
   "source": [
    "# predictions = M.deserialize_pkl(dataset_dir / \"predictions.pkl\")\n",
    "predictions = M.deserialize_pkl(dataset_dir / \"predictions.pkl\")"
   ]
  },
  {
   "cell_type": "code",
   "execution_count": 18,
   "metadata": {},
   "outputs": [
    {
     "name": "stderr",
     "output_type": "stream",
     "text": [
      "100%|██████████| 500/500 [00:00<00:00, 2163.03it/s]\n"
     ]
    }
   ],
   "source": [
    "from urllib.parse import urlparse, unquote_plus\n",
    "from hashlib import md5\n",
    "\n",
    "def get_table_id(table_id: str):\n",
    "    id = urlparse(table_id).path.replace(\"/resource/\", \"\")\n",
    "    return id + \"_\" + md5(table_id.encode()).hexdigest()\n",
    "\n",
    "assert len(predictions) == len({get_table_id(p['tbl'].table.metadata.table_id) for p in predictions})\n",
    "for pred in tqdm(predictions):\n",
    "    table_id = get_table_id(pred['tbl'].table.metadata.table_id)\n",
    "    outfile = dataset_dir / f\"gold_predictions/{table_id}/version.01.json\"\n",
    "    outfile.parent.mkdir(exist_ok=True, parents=True)\n",
    "    M.serialize_json({\n",
    "        \"sm\": pred['sm'].to_json(),\n",
    "        \"is_curated\": False,\n",
    "        \"note\": \"\"\n",
    "    }, outfile)"
   ]
  },
  {
   "cell_type": "code",
   "execution_count": 23,
   "metadata": {},
   "outputs": [
    {
     "data": {
      "application/vnd.jupyter.widget-view+json": {
       "model_id": "77cc27b257784166922d12fa7f17f856",
       "version_major": 2,
       "version_minor": 0
      },
      "text/plain": [
       "HBox(children=(Button(description='Previous', icon='arrow-circle-left', style=ButtonStyle()), Button(descripti…"
      ]
     },
     "metadata": {},
     "output_type": "display_data"
    },
    {
     "data": {
      "application/vnd.jupyter.widget-view+json": {
       "model_id": "ef4f0e4d2bc644609cc683c7752648a2",
       "version_major": 2,
       "version_minor": 0
      },
      "text/plain": [
       "Output()"
      ]
     },
     "metadata": {},
     "output_type": "display_data"
    }
   ],
   "source": [
    "annotator = Annotator(qnode_store, ontclasses_store, ontprops_store, dataset_dir / \"gold_predictions\", \"http://localhost:9200\", 'rook', 'discover@!')\n",
    "\n",
    "def view(i, cache={}):\n",
    "    sm, w2wtable = [predictions[i][k] for k in ['sm', 'tbl']]\n",
    "    if not cache.get('is_rendered', False):\n",
    "        annotator.render(dev=True)\n",
    "        cache['is_rendered'] = True\n",
    "        \n",
    "    annotator.set_table(get_table_id(w2wtable.table.metadata.table_id), w2wtable)\n",
    "\n",
    "LEA.slider(view, min=0, max=len(predictions) - 1, clear_output=False)"
   ]
  },
  {
   "cell_type": "raw",
   "metadata": {
    "jupyter": {
     "source_hidden": true
    }
   },
   "source": [
    "tbl = tables[7]\n",
    "w2wtable = W2WTable.from_dbpedia_table(tbl)\n",
    "sm = graph_v1(w2wtable, qnode_store, ontclasses_store, ontprops_store)\n",
    "# w2wtable = run_one_table(w2wtable, qnode_store)\n",
    "# sm = annotate_table(w2wtable, qnode_store)"
   ]
  },
  {
   "cell_type": "raw",
   "metadata": {
    "jupyter": {
     "source_hidden": true
    }
   },
   "source": [
    "for n in sm.iter_nodes():\n",
    "    print(n)"
   ]
  },
  {
   "cell_type": "raw",
   "metadata": {
    "jupyter": {
     "source_hidden": true
    }
   },
   "source": [
    "annotator = Annotator(qnode_store, ontclasses_store, ontprops_store, 'rook', 'discover@!')\n",
    "annotator.render(dev=True)\n",
    "annotator.set_data(w2wtable, sm)"
   ]
  },
  {
   "cell_type": "raw",
   "metadata": {
    "jupyter": {
     "source_hidden": true
    }
   },
   "source": [
    "annotator.table.get_schema()['columns']"
   ]
  },
  {
   "cell_type": "markdown",
   "metadata": {},
   "source": [
    "Run the following cells to set debug data"
   ]
  },
  {
   "cell_type": "code",
   "execution_count": 12,
   "metadata": {},
   "outputs": [
    {
     "data": {
      "application/vnd.jupyter.widget-view+json": {
       "model_id": "368fb55ef4c94cb4aab02cc209139d04",
       "version_major": 2,
       "version_minor": 0
      },
      "text/plain": [
       "SlowTunnelWidget(js_endpoint=(0, ''), py_endpoint=(0, ''), tunnel_id='development')"
      ]
     },
     "metadata": {},
     "output_type": "display_data"
    },
    {
     "data": {
      "application/javascript": [
       "\n",
       "var msg = window.recordTunnel.serialize();\n",
       "window.IPyCallback.get(\"development\").send_msg(msg);\n"
      ],
      "text/plain": [
       "<IPython.core.display.Javascript object>"
      ]
     },
     "metadata": {},
     "output_type": "display_data"
    }
   ],
   "source": [
    "tunnel = SlowTunnelWidget(tunnel_id=\"development\")\n",
    "display(tunnel)\n",
    "display(Javascript(\"\"\"\n",
    "var msg = window.recordTunnel.serialize();\n",
    "window.IPyCallback.get(\"development\").send_msg(msg);\n",
    "\"\"\"))"
   ]
  },
  {
   "cell_type": "code",
   "execution_count": 13,
   "metadata": {},
   "outputs": [],
   "source": [
    "import time, json\n",
    "for i in range(5):\n",
    "    msg = tunnel.py_endpoint[1]\n",
    "    if msg == '':\n",
    "        print(\".\", end=\"\")\n",
    "        time.sleep(0.1)\n",
    "        continue\n",
    "        \n",
    "    with open(\"./src/replayDebugData.ts\", \"w\") as f:\n",
    "        f.write(\"export const history = \")\n",
    "        f.write(json.dumps(json.loads(msg), indent=4))"
   ]
  },
  {
   "cell_type": "code",
   "execution_count": 24,
   "metadata": {},
   "outputs": [],
   "source": [
    "sm, w2wtable = [predictions[2][k] for k in ['sm', 'tbl']]"
   ]
  },
  {
   "cell_type": "code",
   "execution_count": 26,
   "metadata": {},
   "outputs": [],
   "source": [
    "M.serialize_pkl((sm, w2wtable), \"./data.pkl\")"
   ]
  },
  {
   "cell_type": "code",
   "execution_count": null,
   "metadata": {},
   "outputs": [],
   "source": [
    "with open(\"./data.json\", \"w\") as f:\n",
    "    f.write()"
   ]
  }
 ],
 "metadata": {
  "kernelspec": {
   "display_name": "sm-dev",
   "language": "python",
   "name": "sm-dev"
  },
  "language_info": {
   "codemirror_mode": {
    "name": "ipython",
    "version": 3
   },
   "file_extension": ".py",
   "mimetype": "text/x-python",
   "name": "python",
   "nbconvert_exporter": "python",
   "pygments_lexer": "ipython3",
   "version": "3.7.6"
  }
 },
 "nbformat": 4,
 "nbformat_minor": 4
}
