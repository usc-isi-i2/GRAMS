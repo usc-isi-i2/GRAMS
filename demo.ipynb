{
 "cells": [
  {
   "cell_type": "markdown",
   "metadata": {},
   "source": [
    "**Setup the application**"
   ]
  },
  {
   "cell_type": "code",
   "execution_count": 1,
   "metadata": {},
   "outputs": [],
   "source": [
    "import glob, sys, threading\n",
    "\n",
    "from omegaconf import OmegaConf\n",
    "from tqdm.auto import tqdm\n",
    "from grams.prelude import GRAMS, ROOT_DIR, DATA_DIR, I, fetch_tables, WikidataSemanticModelHelper\n",
    "\n",
    "from sm_widgets.widgets.annotator import Annotator, BatchAnnotator\n",
    "from sm_widgets_integration.wikidata import get_qnode_db, get_ontclass_db, get_ontprop_db\n",
    "from sm_widgets_integration.with_grams import convert_table\n",
    "from sm_widgets.widgets.slider import DisplayShell, Slider"
   ]
  },
  {
   "cell_type": "code",
   "execution_count": 2,
   "metadata": {},
   "outputs": [],
   "source": [
    "cwd = ROOT_DIR / \"examples/misc\"\n",
    "cfg = OmegaConf.load(ROOT_DIR / \"grams.yaml\")\n",
    "grams = GRAMS(DATA_DIR, cfg)"
   ]
  },
  {
   "cell_type": "markdown",
   "metadata": {},
   "source": [
    "**Fetch tables from a webpage and select table that we want to annotate**"
   ]
  },
  {
   "cell_type": "code",
   "execution_count": 3,
   "metadata": {},
   "outputs": [],
   "source": [
    "tables = fetch_tables(\"https://en.wikipedia.org/wiki/List_of_largest_selling_pharmaceutical_products\")\n",
    "# tables = fetch_tables(\"https://en.wikipedia.org/wiki/Novartis\")"
   ]
  },
  {
   "cell_type": "code",
   "execution_count": 4,
   "metadata": {},
   "outputs": [
    {
     "data": {
      "application/vnd.jupyter.widget-view+json": {
       "model_id": "c3943e96e3014e6ab808540101f66489",
       "version_major": 2,
       "version_minor": 0
      },
      "text/plain": [
       "HTML(value='<div id=\"ffbc0f8c-820c-48b0-b6d9-68f75b552d71\"></div>')"
      ]
     },
     "metadata": {},
     "output_type": "display_data"
    },
    {
     "data": {
      "application/vnd.jupyter.widget-view+json": {
       "model_id": "f6cbd37618a64a5fb772fe3b4d1f14fb",
       "version_major": 2,
       "version_minor": 0
      },
      "text/plain": [
       "Output()"
      ]
     },
     "metadata": {},
     "output_type": "display_data"
    },
    {
     "data": {
      "application/javascript": [
       "\n",
       "        if (window.IPyApps === undefined) {\n",
       "            window.IPyApps = new Map();\n",
       "        }\n",
       "        window.IPyApps.set('ffbc0f8c-820c-48b0-b6d9-68f75b552d71', window);\n",
       "        "
      ],
      "text/plain": [
       "<IPython.core.display.Javascript object>"
      ]
     },
     "metadata": {},
     "output_type": "display_data"
    },
    {
     "data": {
      "application/vnd.jupyter.widget-view+json": {
       "model_id": "2e0dcba7de71442c99bf9de79a194ccc",
       "version_major": 2,
       "version_minor": 0
      },
      "text/plain": [
       "SlowTunnelWidget(js_endpoint=(0, ''), py_endpoint=(0, ''), tunnel_id='a84666d8-62ed-4dd4-969d-4d2d63bea7d7')"
      ]
     },
     "metadata": {},
     "output_type": "display_data"
    },
    {
     "data": {
      "application/vnd.jupyter.widget-view+json": {
       "model_id": "62c1a41b78eb43bca17880e7b6af7cc8",
       "version_major": 2,
       "version_minor": 0
      },
      "text/plain": [
       "Output()"
      ]
     },
     "metadata": {},
     "output_type": "display_data"
    },
    {
     "data": {
      "application/javascript": [
       "\n",
       "            \n",
       "    function repeatUntilSuccess(fn, timeout, maxTry) {\n",
       "        if (fn() === true) {\n",
       "            return;\n",
       "        }\n",
       "        if (maxTry === undefined) {\n",
       "            maxTry = 10;\n",
       "        }\n",
       "        if (maxTry === 0) {\n",
       "            console.error(\"Max retries error\");\n",
       "            alert(\"max retries error\");\n",
       "            throw new Error(\"Max retries error\");\n",
       "        } else {\n",
       "            setTimeout(function () {\n",
       "                repeatUntilSuccess(fn, timeout, maxTry - 1);\n",
       "            }, timeout);\n",
       "        }\n",
       "    }\n",
       "    \n",
       "            function setupApp0dda4470e08b48a3aa820ab69fabfefe() {\n",
       "                if (window.IPyCallback === undefined || window.IPyApps === undefined) {\n",
       "                    return false;\n",
       "                }\n",
       "                let tunnel = window.IPyCallback.get('a84666d8-62ed-4dd4-969d-4d2d63bea7d7');\n",
       "                if (tunnel === undefined) {\n",
       "                    return false;\n",
       "                }\n",
       "                \n",
       "                let appwin = window.IPyApps.get('ffbc0f8c-820c-48b0-b6d9-68f75b552d71');\n",
       "                if (appwin === undefined) {\n",
       "                    return false;\n",
       "                }\n",
       "                \n",
       "                let container = appwin.document.getElementById('ffbc0f8c-820c-48b0-b6d9-68f75b552d71');\n",
       "                if (container === null) {\n",
       "                    return false;\n",
       "                }\n",
       "                \n",
       "                let div = appwin.document.createElement(\"div\");\n",
       "                div.id = '0dda4470-e08b-48a3-aa82-0ab69fabfefe';\n",
       "                div.style = \"margin-bottom: 8px\";\n",
       "                container.parentElement.prepend(div);\n",
       "                \n",
       "                // use the tunnel first to send out the code, after the application is rendered, the listening function \n",
       "                // is going to be replaced by the listener in the application, so we don't have to worry.\n",
       "                tunnel.on_receive(function (version, msg) {\n",
       "                    let payload = JSON.parse(msg);\n",
       "                    if (payload.id !== '/init/download_code') {\n",
       "                        alert('invalid calling order. you need to set the source code first');\n",
       "                        console.error(\"invalid call order\", payload);\n",
       "                        return;\n",
       "                    }\n",
       "                    appwin.eval(payload.response);\n",
       "                    appwin.Slider.renderApp('0dda4470-e08b-48a3-aa82-0ab69fabfefe', tunnel);\n",
       "                    window.IPyApps.set('0dda4470-e08b-48a3-aa82-0ab69fabfefe', appwin);\n",
       "                    tunnel.send_msg(JSON.stringify({ url: '/init/done', params: null, id: '/init/done' }));\n",
       "                });\n",
       "                tunnel.send_msg(JSON.stringify({ url: '/init/download_code', params: null, id: '/init/download_code' }));\n",
       "                return true;\n",
       "            }\n",
       "            repeatUntilSuccess(setupApp0dda4470e08b48a3aa820ab69fabfefe, 50, 10);\n",
       "        "
      ],
      "text/plain": [
       "<IPython.core.display.Javascript object>"
      ]
     },
     "metadata": {},
     "output_type": "display_data"
    }
   ],
   "source": [
    "slider = Slider(app=DisplayShell(render_fn=lambda df: display(df)), app_render_fn='set_data', embedded_error_log=True)\n",
    "slider.render()\n",
    "\n",
    "threading.Thread(\n",
    "    target=lambda: slider.set_data([\n",
    "        {\"description\": \"<br>\" + \" > \".join([r.header for r in table.context]), \"args\": [table.as_df()]}\n",
    "        for table in tables\n",
    "    ])\n",
    ").start()"
   ]
  },
  {
   "cell_type": "markdown",
   "metadata": {},
   "source": [
    "**Annotate the selected table**"
   ]
  },
  {
   "cell_type": "code",
   "execution_count": 5,
   "metadata": {},
   "outputs": [],
   "source": [
    "selected_table = 3\n",
    "\n",
    "table = tables[selected_table]\n",
    "table = table.as_relational_linked_table(table_id=f\"{table.page_url}/{selected_table}\")\n",
    "annotation = grams.annotate(table)"
   ]
  },
  {
   "cell_type": "markdown",
   "metadata": {},
   "source": [
    "**Show the annotation**"
   ]
  },
  {
   "cell_type": "code",
   "execution_count": 6,
   "metadata": {},
   "outputs": [
    {
     "data": {
      "application/vnd.jupyter.widget-view+json": {
       "model_id": "16413b403f7c41568a5d00c4a5944617",
       "version_major": 2,
       "version_minor": 0
      },
      "text/plain": [
       "SlowTunnelWidget(js_endpoint=(0, ''), py_endpoint=(0, ''), tunnel_id='053f0625-c56f-4144-82e7-0f94d938e150')"
      ]
     },
     "metadata": {},
     "output_type": "display_data"
    },
    {
     "data": {
      "application/vnd.jupyter.widget-view+json": {
       "model_id": "22165517ed8448b193976d47b2846037",
       "version_major": 2,
       "version_minor": 0
      },
      "text/plain": [
       "HTML(value='<div id=\"1d930620-19d7-4f92-ab94-33d552c16659\"></div>')"
      ]
     },
     "metadata": {},
     "output_type": "display_data"
    },
    {
     "data": {
      "application/javascript": [
       "\n",
       "        \n",
       "    function repeatUntilSuccess(fn, timeout, maxTry) {\n",
       "        if (fn() === true) {\n",
       "            return;\n",
       "        }\n",
       "        if (maxTry === undefined) {\n",
       "            maxTry = 10;\n",
       "        }\n",
       "        if (maxTry === 0) {\n",
       "            console.error(\"Max retries error\");\n",
       "            alert(\"max retries error\");\n",
       "            throw new Error(\"Max retries error\");\n",
       "        } else {\n",
       "            setTimeout(function () {\n",
       "                repeatUntilSuccess(fn, timeout, maxTry - 1);\n",
       "            }, timeout);\n",
       "        }\n",
       "    }\n",
       "    \n",
       "        if (window.IPyApps === undefined) {\n",
       "            window.IPyApps = new Map();\n",
       "        }\n",
       "        function setupApp1d93062019d74f92ab9433d552c16659() {\n",
       "            // get tunnel\n",
       "            if (window.IPyCallback === undefined) {\n",
       "                return false;\n",
       "            }\n",
       "            let tunnel = window.IPyCallback.get('053f0625-c56f-4144-82e7-0f94d938e150');\n",
       "            if (tunnel === undefined) {\n",
       "                return false;\n",
       "            }\n",
       "            \n",
       "            // setup html container\n",
       "            let win = window;\n",
       "            \n",
       "            // use the tunnel first to send out the code, after the application is rendered, the listening function \n",
       "            // is going to be replaced by the listener in the application, so we don't have to worry.\n",
       "            tunnel.on_receive(function (version, msg) {\n",
       "                let payload = JSON.parse(msg);\n",
       "                if (payload.id !== '/init/download_code') {\n",
       "                    alert('invalid calling order. you need to set the source code first');\n",
       "                    console.error(\"invalid call order. waiting for source code but get:\", payload);\n",
       "                    return;\n",
       "                }\n",
       "                win.eval(payload.response);\n",
       "                let shadowDOM = true;\n",
       "                win.Annotator.renderApp('1d930620-19d7-4f92-ab94-33d552c16659', tunnel, undefined, shadowDOM);\n",
       "                window.IPyApps.set('1d930620-19d7-4f92-ab94-33d552c16659', win);\n",
       "                tunnel.send_msg(JSON.stringify({ url: '/init/done', params: null, id: '/init/done' }));\n",
       "            });\n",
       "            tunnel.send_msg(JSON.stringify({ url: '/init/download_code', params: null, id: '/init/download_code' }));\n",
       "            return true;\n",
       "        }\n",
       "        repeatUntilSuccess(setupApp1d93062019d74f92ab9433d552c16659, 50, 10);\n",
       "        "
      ],
      "text/plain": [
       "<IPython.core.display.Javascript object>"
      ]
     },
     "metadata": {},
     "output_type": "display_data"
    },
    {
     "data": {
      "text/plain": [
       "<sm_widgets.widgets.annotator.annotator.Annotator at 0x7f6de0cee700>"
      ]
     },
     "execution_count": 6,
     "metadata": {},
     "output_type": "execute_result"
    }
   ],
   "source": [
    "assistant = None\n",
    "annotator = Annotator(\n",
    "    entities=get_qnode_db(grams.qnodes), \n",
    "    ontclasses=get_ontclass_db(grams.wdclasses), \n",
    "    ontprops=get_ontprop_db(grams.wdprops), \n",
    "    prop_type_uri='http://www.wikidata.org/prop/P31', \n",
    "    savedir=cwd / \"ground-truth\", \n",
    "    eshost='http://mira.isi.edu:9200', \n",
    "    dev=False, \n",
    "    assistant=assistant)\n",
    "annotator.render(True)"
   ]
  },
  {
   "cell_type": "code",
   "execution_count": 7,
   "metadata": {},
   "outputs": [],
   "source": [
    "threading.Thread(\n",
    "    target=lambda: annotator.set_data(table.id, convert_table(table), sms=[annotation.sm])\n",
    ").start()"
   ]
  }
 ],
 "metadata": {
  "kernelspec": {
   "display_name": "grams",
   "language": "python",
   "name": "grams"
  },
  "language_info": {
   "codemirror_mode": {
    "name": "ipython",
    "version": 3
   },
   "file_extension": ".py",
   "mimetype": "text/x-python",
   "name": "python",
   "nbconvert_exporter": "python",
   "pygments_lexer": "ipython3",
   "version": "3.8.5"
  }
 },
 "nbformat": 4,
 "nbformat_minor": 4
}
