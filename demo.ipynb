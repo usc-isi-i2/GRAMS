{
 "cells": [
  {
   "cell_type": "markdown",
   "metadata": {},
   "source": [
    "**Setup the application**\n",
    "\n",
    "Import required libraries"
   ]
  },
  {
   "cell_type": "code",
   "execution_count": 1,
   "metadata": {},
   "outputs": [],
   "source": [
    "import glob, sys, threading\n",
    "\n",
    "from omegaconf import OmegaConf\n",
    "from tqdm.auto import tqdm\n",
    "from grams.prelude import GRAMS, ROOT_DIR, DATA_DIR, I, fetch_tables, WikidataSemanticModelHelper\n",
    "\n",
    "from sm_widgets.widgets.annotator import Annotator, BatchAnnotator\n",
    "from sm_widgets_integration.wikidata import get_qnode_db, get_ontclass_db, get_ontprop_db\n",
    "from sm_widgets_integration.with_grams import convert_table\n",
    "from sm_widgets.widgets.slider import DisplayShell, Slider\n",
    "from sm.prelude import M"
   ]
  },
  {
   "cell_type": "markdown",
   "metadata": {},
   "source": [
    "Create GRAMS instance. `DATA_DIR` is where GRAMS will store entities retrieved from Wikidata, `cfg` contains configuration of GRAMS"
   ]
  },
  {
   "cell_type": "code",
   "execution_count": 2,
   "metadata": {},
   "outputs": [],
   "source": [
    "cwd = ROOT_DIR / \"examples/misc\"\n",
    "cfg = OmegaConf.load(ROOT_DIR / \"grams.yaml\")\n",
    "grams = GRAMS(DATA_DIR, cfg)"
   ]
  },
  {
   "cell_type": "markdown",
   "metadata": {},
   "source": [
    "**Fetch tables from a webpage and select table that we want to annotate**\n",
    "\n",
    "Fetch table from a Wikipedia page"
   ]
  },
  {
   "cell_type": "code",
   "execution_count": 3,
   "metadata": {},
   "outputs": [],
   "source": [
    "tables = fetch_tables(\"https://en.wikipedia.org/wiki/President_of_the_National_Council_(Austria)\")\n",
    "# tables = fetch_tables(\"https://en.wikipedia.org/wiki/Novartis\")"
   ]
  },
  {
   "cell_type": "markdown",
   "metadata": {},
   "source": [
    "Create a slider to view fetch tables and select the table we want to annotate"
   ]
  },
  {
   "cell_type": "code",
   "execution_count": 4,
   "metadata": {},
   "outputs": [
    {
     "data": {
      "application/vnd.jupyter.widget-view+json": {
       "model_id": "b9ec85d7e1354454911789d7fa8b94b8",
       "version_major": 2,
       "version_minor": 0
      },
      "text/plain": [
       "HTML(value='<div id=\"b2273efd-09fd-4276-b977-98491eeac4fd\"></div>')"
      ]
     },
     "metadata": {},
     "output_type": "display_data"
    },
    {
     "data": {
      "application/vnd.jupyter.widget-view+json": {
       "model_id": "a194e4de4fbf4a07af7de873aba7dbdf",
       "version_major": 2,
       "version_minor": 0
      },
      "text/plain": [
       "Output()"
      ]
     },
     "metadata": {},
     "output_type": "display_data"
    },
    {
     "data": {
      "application/javascript": [
       "\n",
       "        if (window.IPyApps === undefined) {\n",
       "            window.IPyApps = new Map();\n",
       "        }\n",
       "        window.IPyApps.set('b2273efd-09fd-4276-b977-98491eeac4fd', window);\n",
       "        "
      ],
      "text/plain": [
       "<IPython.core.display.Javascript object>"
      ]
     },
     "metadata": {},
     "output_type": "display_data"
    },
    {
     "data": {
      "application/vnd.jupyter.widget-view+json": {
       "model_id": "8d2421659e5d43fb93b44c6453db0c88",
       "version_major": 2,
       "version_minor": 0
      },
      "text/plain": [
       "SlowTunnelWidget(js_endpoint=(0, ''), py_endpoint=(0, ''), tunnel_id='330c06e9-1e4e-4c35-aa02-16f882426c6c')"
      ]
     },
     "metadata": {},
     "output_type": "display_data"
    },
    {
     "data": {
      "application/vnd.jupyter.widget-view+json": {
       "model_id": "4550ecad45b743ada7d580d972611c43",
       "version_major": 2,
       "version_minor": 0
      },
      "text/plain": [
       "Output()"
      ]
     },
     "metadata": {},
     "output_type": "display_data"
    },
    {
     "data": {
      "application/javascript": [
       "\n",
       "            \n",
       "    function repeatUntilSuccess(fn, timeout, maxTry) {\n",
       "        if (fn() === true) {\n",
       "            return;\n",
       "        }\n",
       "        if (maxTry === undefined) {\n",
       "            maxTry = 10;\n",
       "        }\n",
       "        if (maxTry === 0) {\n",
       "            console.error(\"Max retries error\");\n",
       "            alert(\"max retries error\");\n",
       "            throw new Error(\"Max retries error\");\n",
       "        } else {\n",
       "            setTimeout(function () {\n",
       "                repeatUntilSuccess(fn, timeout, maxTry - 1);\n",
       "            }, timeout);\n",
       "        }\n",
       "    }\n",
       "    \n",
       "            function setupApp35b361262e884bbfb0b977f3d4f74ced() {\n",
       "                if (window.IPyCallback === undefined || window.IPyApps === undefined) {\n",
       "                    return false;\n",
       "                }\n",
       "                let tunnel = window.IPyCallback.get('330c06e9-1e4e-4c35-aa02-16f882426c6c');\n",
       "                if (tunnel === undefined) {\n",
       "                    return false;\n",
       "                }\n",
       "                \n",
       "                let appwin = window.IPyApps.get('b2273efd-09fd-4276-b977-98491eeac4fd');\n",
       "                if (appwin === undefined) {\n",
       "                    return false;\n",
       "                }\n",
       "                \n",
       "                let container = appwin.document.getElementById('b2273efd-09fd-4276-b977-98491eeac4fd');\n",
       "                if (container === null) {\n",
       "                    return false;\n",
       "                }\n",
       "                \n",
       "                let div = appwin.document.createElement(\"div\");\n",
       "                div.id = '35b36126-2e88-4bbf-b0b9-77f3d4f74ced';\n",
       "                div.style = \"margin-bottom: 8px\";\n",
       "                container.parentElement.prepend(div);\n",
       "                \n",
       "                // use the tunnel first to send out the code, after the application is rendered, the listening function \n",
       "                // is going to be replaced by the listener in the application, so we don't have to worry.\n",
       "                tunnel.on_receive(function (version, msg) {\n",
       "                    let payload = JSON.parse(msg);\n",
       "                    if (payload.id !== '/init/download_code') {\n",
       "                        alert('invalid calling order. you need to set the source code first');\n",
       "                        console.error(\"invalid call order\", payload);\n",
       "                        return;\n",
       "                    }\n",
       "                    appwin.eval(payload.response);\n",
       "                    appwin.Slider.renderApp('35b36126-2e88-4bbf-b0b9-77f3d4f74ced', tunnel);\n",
       "                    window.IPyApps.set('35b36126-2e88-4bbf-b0b9-77f3d4f74ced', appwin);\n",
       "                    tunnel.send_msg(JSON.stringify({ url: '/init/done', params: null, id: '/init/done' }));\n",
       "                });\n",
       "                tunnel.send_msg(JSON.stringify({ url: '/init/download_code', params: null, id: '/init/download_code' }));\n",
       "                return true;\n",
       "            }\n",
       "            repeatUntilSuccess(setupApp35b361262e884bbfb0b977f3d4f74ced, 50, 10);\n",
       "        "
      ],
      "text/plain": [
       "<IPython.core.display.Javascript object>"
      ]
     },
     "metadata": {},
     "output_type": "display_data"
    }
   ],
   "source": [
    "slider = Slider(app=DisplayShell(render_fn=lambda df: display(df)), app_render_fn='set_data', embedded_error_log=True)\n",
    "slider.render()\n",
    "\n",
    "threading.Thread(\n",
    "    target=lambda: slider.set_data([\n",
    "        {\"description\": \"<br>\" + \" > \".join([r.header for r in table.context]), \"args\": [table.as_df()]}\n",
    "        for table in tables\n",
    "    ])\n",
    ").start()"
   ]
  },
  {
   "cell_type": "markdown",
   "metadata": {},
   "source": [
    "**Annotate the selected table**\n",
    "\n",
    "To annotate a table, simply call `grams.annotate`"
   ]
  },
  {
   "cell_type": "code",
   "execution_count": 5,
   "metadata": {},
   "outputs": [],
   "source": [
    "selected_table = 10\n",
    "\n",
    "table = tables[selected_table]\n",
    "table = table.as_relational_linked_table(table_id=f\"{table.page_url}/{selected_table}\")\n",
    "annotation = grams.annotate(table)"
   ]
  },
  {
   "cell_type": "markdown",
   "metadata": {},
   "source": [
    "save table data (optional)"
   ]
  },
  {
   "cell_type": "raw",
   "metadata": {},
   "source": [
    "M.serialize_json(table.to_json(), cwd / \"tables\" / f\"{table.get_friendly_fs_id()}.json\")"
   ]
  },
  {
   "cell_type": "markdown",
   "metadata": {},
   "source": [
    "**Show the annotation**"
   ]
  },
  {
   "cell_type": "code",
   "execution_count": 7,
   "metadata": {},
   "outputs": [
    {
     "data": {
      "application/vnd.jupyter.widget-view+json": {
       "model_id": "1cc58173e45d40378b6596dc567c892a",
       "version_major": 2,
       "version_minor": 0
      },
      "text/plain": [
       "SlowTunnelWidget(js_endpoint=(0, ''), py_endpoint=(0, ''), tunnel_id='bb742097-5702-4da3-ac46-1f389384c9b1')"
      ]
     },
     "metadata": {},
     "output_type": "display_data"
    },
    {
     "data": {
      "application/vnd.jupyter.widget-view+json": {
       "model_id": "1a874409fefe4bb486e08cfa2ade67ab",
       "version_major": 2,
       "version_minor": 0
      },
      "text/plain": [
       "HTML(value='<div id=\"8d49b175-c63d-43a6-936b-9454f7c7b3a6\"></div>')"
      ]
     },
     "metadata": {},
     "output_type": "display_data"
    },
    {
     "data": {
      "application/javascript": [
       "\n",
       "        \n",
       "    function repeatUntilSuccess(fn, timeout, maxTry) {\n",
       "        if (fn() === true) {\n",
       "            return;\n",
       "        }\n",
       "        if (maxTry === undefined) {\n",
       "            maxTry = 10;\n",
       "        }\n",
       "        if (maxTry === 0) {\n",
       "            console.error(\"Max retries error\");\n",
       "            alert(\"max retries error\");\n",
       "            throw new Error(\"Max retries error\");\n",
       "        } else {\n",
       "            setTimeout(function () {\n",
       "                repeatUntilSuccess(fn, timeout, maxTry - 1);\n",
       "            }, timeout);\n",
       "        }\n",
       "    }\n",
       "    \n",
       "        if (window.IPyApps === undefined) {\n",
       "            window.IPyApps = new Map();\n",
       "        }\n",
       "        function setupApp8d49b175c63d43a6936b9454f7c7b3a6() {\n",
       "            // get tunnel\n",
       "            if (window.IPyCallback === undefined) {\n",
       "                return false;\n",
       "            }\n",
       "            let tunnel = window.IPyCallback.get('bb742097-5702-4da3-ac46-1f389384c9b1');\n",
       "            if (tunnel === undefined) {\n",
       "                return false;\n",
       "            }\n",
       "            \n",
       "            // setup html container\n",
       "            let win = window;\n",
       "            \n",
       "            // use the tunnel first to send out the code, after the application is rendered, the listening function \n",
       "            // is going to be replaced by the listener in the application, so we don't have to worry.\n",
       "            tunnel.on_receive(function (version, msg) {\n",
       "                let payload = JSON.parse(msg);\n",
       "                if (payload.id !== '/init/download_code') {\n",
       "                    alert('invalid calling order. you need to set the source code first');\n",
       "                    console.error(\"invalid call order. waiting for source code but get:\", payload);\n",
       "                    return;\n",
       "                }\n",
       "                win.eval(payload.response);\n",
       "                let shadowDOM = true;\n",
       "                win.Annotator.renderApp('8d49b175-c63d-43a6-936b-9454f7c7b3a6', tunnel, undefined, shadowDOM);\n",
       "                window.IPyApps.set('8d49b175-c63d-43a6-936b-9454f7c7b3a6', win);\n",
       "                tunnel.send_msg(JSON.stringify({ url: '/init/done', params: null, id: '/init/done' }));\n",
       "            });\n",
       "            tunnel.send_msg(JSON.stringify({ url: '/init/download_code', params: null, id: '/init/download_code' }));\n",
       "            return true;\n",
       "        }\n",
       "        repeatUntilSuccess(setupApp8d49b175c63d43a6936b9454f7c7b3a6, 50, 10);\n",
       "        "
      ],
      "text/plain": [
       "<IPython.core.display.Javascript object>"
      ]
     },
     "metadata": {},
     "output_type": "display_data"
    },
    {
     "data": {
      "text/plain": [
       "<sm_widgets.widgets.annotator.annotator.Annotator at 0x7f5d26070040>"
      ]
     },
     "execution_count": 7,
     "metadata": {},
     "output_type": "execute_result"
    }
   ],
   "source": [
    "assistant = None\n",
    "annotator = Annotator(\n",
    "    entities=get_qnode_db(grams.qnodes), \n",
    "    ontclasses=get_ontclass_db(grams.wdclasses), \n",
    "    ontprops=get_ontprop_db(grams.wdprops), \n",
    "    prop_type_uri='http://www.wikidata.org/prop/P31', \n",
    "    savedir=cwd / \"ground-truth\", \n",
    "    eshost='http://mira.isi.edu:9200', \n",
    "    dev=False, \n",
    "    assistant=assistant)\n",
    "annotator.render(True)"
   ]
  },
  {
   "cell_type": "code",
   "execution_count": 8,
   "metadata": {},
   "outputs": [],
   "source": [
    "threading.Thread(\n",
    "    target=lambda: annotator.set_data(table.get_friendly_fs_id(), convert_table(table), sms=[annotation.sm])\n",
    ").start()"
   ]
  },
  {
   "cell_type": "code",
   "execution_count": null,
   "metadata": {},
   "outputs": [],
   "source": []
  }
 ],
 "metadata": {
  "kernelspec": {
   "display_name": "grams",
   "language": "python",
   "name": "grams"
  },
  "language_info": {
   "codemirror_mode": {
    "name": "ipython",
    "version": 3
   },
   "file_extension": ".py",
   "mimetype": "text/x-python",
   "name": "python",
   "nbconvert_exporter": "python",
   "pygments_lexer": "ipython3",
   "version": "3.8.5"
  }
 },
 "nbformat": 4,
 "nbformat_minor": 4
}
