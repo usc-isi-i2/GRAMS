{
 "cells": [
  {
   "cell_type": "code",
   "execution_count": 3,
   "metadata": {},
   "outputs": [],
   "source": [
    "import glob, sys\n",
    "\n",
    "from omegaconf import OmegaConf\n",
    "from tqdm.auto import tqdm\n",
    "from grams.prelude import GRAMS, ROOT_DIR, DATA_DIR, I, O, M, WikidataSemanticModelHelper\n",
    "sys.path.append(str(ROOT_DIR / \"sm_annotator\"))"
   ]
  },
  {
   "cell_type": "code",
   "execution_count": 4,
   "metadata": {
    "pycharm": {
     "name": "#%%\n"
    }
   },
   "outputs": [],
   "source": [
    "cwd = ROOT_DIR / \"examples/novartis\"\n",
    "cfg = OmegaConf.load(ROOT_DIR / \"grams.yaml\")\n",
    "grams = GRAMS(DATA_DIR, cfg)"
   ]
  },
  {
   "cell_type": "code",
   "execution_count": 5,
   "metadata": {
    "pycharm": {
     "name": "#%% Run Novartis related tables and show the results\n"
    }
   },
   "outputs": [],
   "source": [
    "tables = [I.W2WTable.from_csv_file(infile) for infile in glob.glob(str(cwd / \"tables/*.csv\"))]"
   ]
  },
  {
   "cell_type": "code",
   "execution_count": 6,
   "metadata": {
    "pycharm": {
     "name": "#%%\n"
    }
   },
   "outputs": [
    {
     "data": {
      "application/vnd.jupyter.widget-view+json": {
       "model_id": "87de641791e14d1295ff5bbf5222da59",
       "version_major": 2,
       "version_minor": 0
      },
      "text/plain": [
       "  0%|          | 0/1 [00:00<?, ?it/s]"
      ]
     },
     "metadata": {},
     "output_type": "display_data"
    }
   ],
   "source": [
    "annotations = [grams.annotate(table) for table in tqdm(tables)]"
   ]
  },
  {
   "cell_type": "code",
   "execution_count": 7,
   "metadata": {
    "pycharm": {
     "name": "#%% To get the performance, use the\n"
    }
   },
   "outputs": [
    {
     "data": {
      "application/vnd.jupyter.widget-view+json": {
       "model_id": "150e5e49ef9b4b33a75c3d1dd142b0c2",
       "version_major": 2,
       "version_minor": 0
      },
      "text/plain": [
       "Output()"
      ]
     },
     "metadata": {},
     "output_type": "display_data"
    },
    {
     "data": {
      "application/vnd.jupyter.widget-view+json": {
       "model_id": "65acb8cbc08f4f4f875ffd0161c432b4",
       "version_major": 2,
       "version_minor": 0
      },
      "text/plain": [
       "SlowTunnelWidget(js_endpoint=(0, ''), py_endpoint=(0, ''), tunnel_id='a41c030b-87ec-4907-a86a-0d5d1d21ebce')"
      ]
     },
     "metadata": {},
     "output_type": "display_data"
    },
    {
     "data": {
      "application/vnd.jupyter.widget-view+json": {
       "model_id": "8b235dc83650412ca65dde14173d9e85",
       "version_major": 2,
       "version_minor": 0
      },
      "text/plain": [
       "HTML(value='<div id=\"fa3da3bf-f122-4bd3-aeb3-57e7e6325633\"></div>')"
      ]
     },
     "metadata": {},
     "output_type": "display_data"
    },
    {
     "data": {
      "application/javascript": [
       "\n",
       "                \n",
       "    function repeatUntilSuccess(fn, timeout, maxTry) {\n",
       "        if (fn() === true) {\n",
       "            return;\n",
       "        }\n",
       "        if (maxTry === undefined) {\n",
       "            maxTry = 10;\n",
       "        }\n",
       "        if (maxTry === 0) {\n",
       "            console.error(\"Max retries error\");\n",
       "            alert(\"max retries error\");\n",
       "            throw new Error(\"Max retries error\");\n",
       "        } else {\n",
       "            setTimeout(function () {\n",
       "                repeatUntilSuccess(fn, timeout, maxTry - 1);\n",
       "            }, timeout);\n",
       "        }\n",
       "    }\n",
       "    \n",
       "                if (window.IPyApps === undefined) {\n",
       "                    window.IPyApps = new Map();\n",
       "                }\n",
       "                \n",
       "                function setupAppfa3da3bff1224bd3aeb357e7e6325633() {\n",
       "                    if (window.IPyCallback === undefined) {\n",
       "                        return false;\n",
       "                    }\n",
       "                    let tunnel = window.IPyCallback.get('a41c030b-87ec-4907-a86a-0d5d1d21ebce');\n",
       "                    if (tunnel === undefined) {\n",
       "                        return false;\n",
       "                    }\n",
       "                    \n",
       "                    // use the tunnel first to send out the code, after the application is rendered, the listening function \n",
       "                    // is going to be replaced by the listener in the application, so we don't have to worry.\n",
       "                    tunnel.on_receive(function (version, msg) {\n",
       "                        let payload = JSON.parse(msg);\n",
       "                        if (payload.id !== 'get_source_code') {\n",
       "                            alert('invalid calling order. you need to set the source code first');\n",
       "                            console.error(\"invalid call order. waiting for source code but get:\", payload);\n",
       "                            return;\n",
       "                        }\n",
       "                        eval(payload.response);\n",
       "                        let shadowDOM = true;\n",
       "                        window.Annotator.renderApp('fa3da3bf-f122-4bd3-aeb3-57e7e6325633', tunnel, undefined, shadowDOM);\n",
       "                    });\n",
       "                    tunnel.send_msg(JSON.stringify({ url: '/get_source_code', params: null, id: 'get_source_code' }));\n",
       "                    return true;\n",
       "                }\n",
       "                repeatUntilSuccess(setupAppfa3da3bff1224bd3aeb357e7e6325633, 50, 10);\n",
       "            "
      ],
      "text/plain": [
       "<IPython.core.display.Javascript object>"
      ]
     },
     "metadata": {},
     "output_type": "display_data"
    },
    {
     "data": {
      "application/vnd.jupyter.widget-view+json": {
       "model_id": "3590e556e36c4eb491bbd3fa161e7ddb",
       "version_major": 2,
       "version_minor": 0
      },
      "text/plain": [
       "SlowTunnelWidget(js_endpoint=(0, ''), py_endpoint=(0, ''), tunnel_id='75c72064-7b37-4590-ba03-eebecd958e78')"
      ]
     },
     "metadata": {},
     "output_type": "display_data"
    },
    {
     "data": {
      "application/javascript": [
       "\n",
       "            \n",
       "    function repeatUntilSuccess(fn, timeout, maxTry) {\n",
       "        if (fn() === true) {\n",
       "            return;\n",
       "        }\n",
       "        if (maxTry === undefined) {\n",
       "            maxTry = 10;\n",
       "        }\n",
       "        if (maxTry === 0) {\n",
       "            console.error(\"Max retries error\");\n",
       "            alert(\"max retries error\");\n",
       "            throw new Error(\"Max retries error\");\n",
       "        } else {\n",
       "            setTimeout(function () {\n",
       "                repeatUntilSuccess(fn, timeout, maxTry - 1);\n",
       "            }, timeout);\n",
       "        }\n",
       "    }\n",
       "    \n",
       "            \n",
       "            function setupSliderApp() {\n",
       "                let container = window.document.getElementById('fa3da3bf-f122-4bd3-aeb3-57e7e6325633');\n",
       "                if (container === null || window.IPyCallback === undefined) {\n",
       "                    return false;\n",
       "                }\n",
       "                \n",
       "                let tunnel = window.IPyCallback.get('75c72064-7b37-4590-ba03-eebecd958e78');\n",
       "                if (tunnel === undefined) {\n",
       "                    return false;\n",
       "                }\n",
       "                \n",
       "                let div = window.document.createElement(\"div\");\n",
       "                div.id = 'c9b35606-38ee-42aa-b140-f2dbc06961b1';\n",
       "                div.style = \"margin-bottom: 8px\";\n",
       "                container.parentElement.prepend(div);\n",
       "                \n",
       "                // use the tunnel first to send out the code, after the application is rendered, the listening function \n",
       "                // is going to be replaced by the listener in the application, so we don't have to worry.\n",
       "                tunnel.on_receive(function (version, msg) {\n",
       "                    let payload = JSON.parse(msg);\n",
       "                    if (payload.id !== 'get_source_code') {\n",
       "                        alert('invalid calling order. you need to set the source code first');\n",
       "                        return;\n",
       "                    }\n",
       "                    window.eval(payload.response);\n",
       "                    window.Slider.renderApp('c9b35606-38ee-42aa-b140-f2dbc06961b1', tunnel);\n",
       "                });\n",
       "                tunnel.send_msg(JSON.stringify({ url: '/get_source_code', params: null, id: 'get_source_code' }));\n",
       "                return true;\n",
       "            }\n",
       "            repeatUntilSuccess(setupSliderApp, 50, 10);\n",
       "            "
      ],
      "text/plain": [
       "<IPython.core.display.Javascript object>"
      ]
     },
     "metadata": {},
     "output_type": "display_data"
    },
    {
     "data": {
      "text/plain": [
       "<sm_annotator.annotator.BatchAnnotator at 0x7f091a3faf70>"
      ]
     },
     "execution_count": 7,
     "metadata": {},
     "output_type": "execute_result"
    }
   ],
   "source": [
    "from sm_annotator.prelude import Annotator, BatchAnnotator, widgets, GRAMSAnnotatorAssistant, SliderApp\n",
    "\n",
    "qnodes = grams.qnodes.cache_dict()\n",
    "wdprops = grams.wdprops\n",
    "wdclasses = grams.wdclasses.cache_dict()\n",
    "\n",
    "assistant = GRAMSAnnotatorAssistant([\n",
    "    dict(table=table, sg=annotation.sg, dg=annotation.dg)\n",
    "    for annotation, table in zip(annotations, tables)\n",
    "], qnodes, wdprops)\n",
    "annotator = Annotator(qnodes, wdclasses, wdprops, cwd / \"ground-truth\", \n",
    "                          eshost='http://mira.isi.edu:9200', username='', password='', dev=False, assistant=assistant)\n",
    "batch_annotator = BatchAnnotator(annotator)\n",
    "batch_annotator.render(same_tab=True)"
   ]
  },
  {
   "cell_type": "code",
   "execution_count": 9,
   "metadata": {},
   "outputs": [],
   "source": [
    "batch_annotator.batch_annotate([\n",
    "    (table.get_friendly_fs_id(), \"\", table)\n",
    "    for table in tables\n",
    "], start_index=0)"
   ]
  },
  {
   "cell_type": "code",
   "execution_count": null,
   "metadata": {},
   "outputs": [],
   "source": []
  }
 ],
 "metadata": {
  "kernelspec": {
   "display_name": "grams",
   "language": "python",
   "name": "grams"
  },
  "language_info": {
   "codemirror_mode": {
    "name": "ipython",
    "version": 3
   },
   "file_extension": ".py",
   "mimetype": "text/x-python",
   "name": "python",
   "nbconvert_exporter": "python",
   "pygments_lexer": "ipython3",
   "version": "3.8.5"
  }
 },
 "nbformat": 4,
 "nbformat_minor": 4
}
