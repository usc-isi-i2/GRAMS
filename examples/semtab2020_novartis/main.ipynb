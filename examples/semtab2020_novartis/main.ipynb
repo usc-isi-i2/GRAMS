{
 "cells": [
  {
   "cell_type": "code",
   "execution_count": 1,
   "metadata": {},
   "outputs": [],
   "source": [
    "import glob, sys\n",
    "\n",
    "from omegaconf import OmegaConf\n",
    "from tqdm.auto import tqdm\n",
    "from grams.prelude import GRAMS, ROOT_DIR, DATA_DIR, I, O, M, WikidataSemanticModelHelper\n",
    "sys.path.append(str(ROOT_DIR / \"sm_annotator\"))"
   ]
  },
  {
   "cell_type": "code",
   "execution_count": 2,
   "metadata": {
    "pycharm": {
     "name": "#%%\n"
    }
   },
   "outputs": [],
   "source": [
    "cwd = ROOT_DIR / \"examples/semtab2020_novartis\"\n",
    "cfg = OmegaConf.load(ROOT_DIR / \"grams.yaml\")\n",
    "grams = GRAMS(DATA_DIR, cfg)"
   ]
  },
  {
   "cell_type": "code",
   "execution_count": 3,
   "metadata": {
    "pycharm": {
     "name": "#%% Run Novartis related tables and show the results\n"
    }
   },
   "outputs": [],
   "source": [
    "gt = [\n",
    "    ([O.SemanticModel.from_json(sm) for sm in r['semantic_models']], I.W2WTable.from_json(r['table']))\n",
    "    for r in [M.deserialize_json(infile) for infile in glob.glob(str(cwd / \"tables/*.json\"))]\n",
    "]"
   ]
  },
  {
   "cell_type": "code",
   "execution_count": 4,
   "metadata": {
    "pycharm": {
     "name": "#%%\n"
    }
   },
   "outputs": [
    {
     "data": {
      "application/vnd.jupyter.widget-view+json": {
       "model_id": "5518e077a08541b3851cfef787a9a37d",
       "version_major": 2,
       "version_minor": 0
      },
      "text/plain": [
       "  0%|          | 0/50 [00:00<?, ?it/s]"
      ]
     },
     "metadata": {},
     "output_type": "display_data"
    }
   ],
   "source": [
    "annotations = [grams.annotate(table) for sms, table in tqdm(gt)]"
   ]
  },
  {
   "cell_type": "code",
   "execution_count": 13,
   "metadata": {
    "pycharm": {
     "name": "#%% To get the performance, use the\n"
    }
   },
   "outputs": [
    {
     "data": {
      "application/vnd.jupyter.widget-view+json": {
       "model_id": "fd7da42a63924f35b2fc286a84d50ec2",
       "version_major": 2,
       "version_minor": 0
      },
      "text/plain": [
       "Output()"
      ]
     },
     "metadata": {},
     "output_type": "display_data"
    },
    {
     "data": {
      "application/vnd.jupyter.widget-view+json": {
       "model_id": "72d5a3e69288437e87dd7f4eb5c1ee36",
       "version_major": 2,
       "version_minor": 0
      },
      "text/plain": [
       "SlowTunnelWidget(js_endpoint=(0, ''), py_endpoint=(0, ''), tunnel_id='97243f34-8de4-41f4-9598-edf04b5b9e68')"
      ]
     },
     "metadata": {},
     "output_type": "display_data"
    },
    {
     "data": {
      "application/vnd.jupyter.widget-view+json": {
       "model_id": "b9647aa2133f444fafe270712bb04d15",
       "version_major": 2,
       "version_minor": 0
      },
      "text/plain": [
       "HTML(value='<div id=\"01386d95-0598-4c01-a338-5d6d9a9fd93b\"></div>')"
      ]
     },
     "metadata": {},
     "output_type": "display_data"
    },
    {
     "data": {
      "application/javascript": [
       "\n",
       "                \n",
       "    function repeatUntilSuccess(fn, timeout, maxTry) {\n",
       "        if (fn() === true) {\n",
       "            return;\n",
       "        }\n",
       "        if (maxTry === undefined) {\n",
       "            maxTry = 10;\n",
       "        }\n",
       "        if (maxTry === 0) {\n",
       "            console.error(\"Max retries error\");\n",
       "            alert(\"max retries error\");\n",
       "            throw new Error(\"Max retries error\");\n",
       "        } else {\n",
       "            setTimeout(function () {\n",
       "                repeatUntilSuccess(fn, timeout, maxTry - 1);\n",
       "            }, timeout);\n",
       "        }\n",
       "    }\n",
       "    \n",
       "                if (window.IPyApps === undefined) {\n",
       "                    window.IPyApps = new Map();\n",
       "                }\n",
       "                \n",
       "                function setupApp01386d9505984c01a3385d6d9a9fd93b() {\n",
       "                    if (window.IPyCallback === undefined) {\n",
       "                        return false;\n",
       "                    }\n",
       "                    let tunnel = window.IPyCallback.get('97243f34-8de4-41f4-9598-edf04b5b9e68');\n",
       "                    if (tunnel === undefined) {\n",
       "                        return false;\n",
       "                    }\n",
       "                    \n",
       "                    // use the tunnel first to send out the code, after the application is rendered, the listening function \n",
       "                    // is going to be replaced by the listener in the application, so we don't have to worry.\n",
       "                    tunnel.on_receive(function (version, msg) {\n",
       "                        let payload = JSON.parse(msg);\n",
       "                        if (payload.id !== 'get_source_code') {\n",
       "                            alert('invalid calling order. you need to set the source code first');\n",
       "                            console.error(\"invalid call order. waiting for source code but get:\", payload);\n",
       "                            return;\n",
       "                        }\n",
       "                        eval(payload.response);\n",
       "                        let shadowDOM = true;\n",
       "                        window.Annotator.renderDevVizSemModelApp('01386d95-0598-4c01-a338-5d6d9a9fd93b', tunnel, undefined, shadowDOM);\n",
       "                    });\n",
       "                    tunnel.send_msg(JSON.stringify({ url: '/get_source_code', params: null, id: 'get_source_code' }));\n",
       "                    return true;\n",
       "                }\n",
       "                repeatUntilSuccess(setupApp01386d9505984c01a3385d6d9a9fd93b, 50, 10);\n",
       "            "
      ],
      "text/plain": [
       "<IPython.core.display.Javascript object>"
      ]
     },
     "metadata": {},
     "output_type": "display_data"
    },
    {
     "data": {
      "application/vnd.jupyter.widget-view+json": {
       "model_id": "92cc6fb942224166b6b3ea57a40b1826",
       "version_major": 2,
       "version_minor": 0
      },
      "text/plain": [
       "SlowTunnelWidget(js_endpoint=(0, ''), py_endpoint=(0, ''), tunnel_id='d5a9f1b2-0353-4a34-bc06-2bf5c512d893')"
      ]
     },
     "metadata": {},
     "output_type": "display_data"
    },
    {
     "data": {
      "application/javascript": [
       "\n",
       "            \n",
       "    function repeatUntilSuccess(fn, timeout, maxTry) {\n",
       "        if (fn() === true) {\n",
       "            return;\n",
       "        }\n",
       "        if (maxTry === undefined) {\n",
       "            maxTry = 10;\n",
       "        }\n",
       "        if (maxTry === 0) {\n",
       "            console.error(\"Max retries error\");\n",
       "            alert(\"max retries error\");\n",
       "            throw new Error(\"Max retries error\");\n",
       "        } else {\n",
       "            setTimeout(function () {\n",
       "                repeatUntilSuccess(fn, timeout, maxTry - 1);\n",
       "            }, timeout);\n",
       "        }\n",
       "    }\n",
       "    \n",
       "            \n",
       "            function setupSliderApp() {\n",
       "                let container = window.document.getElementById('01386d95-0598-4c01-a338-5d6d9a9fd93b');\n",
       "                if (container === null || window.IPyCallback === undefined) {\n",
       "                    return false;\n",
       "                }\n",
       "                \n",
       "                let tunnel = window.IPyCallback.get('d5a9f1b2-0353-4a34-bc06-2bf5c512d893');\n",
       "                if (tunnel === undefined) {\n",
       "                    return false;\n",
       "                }\n",
       "                \n",
       "                let div = window.document.createElement(\"div\");\n",
       "                div.id = 'dc56c274-6dc0-4803-b86b-536c47455ff3';\n",
       "                div.style = \"margin-bottom: 8px\";\n",
       "                container.parentElement.prepend(div);\n",
       "                \n",
       "                // use the tunnel first to send out the code, after the application is rendered, the listening function \n",
       "                // is going to be replaced by the listener in the application, so we don't have to worry.\n",
       "                tunnel.on_receive(function (version, msg) {\n",
       "                    let payload = JSON.parse(msg);\n",
       "                    if (payload.id !== 'get_source_code') {\n",
       "                        alert('invalid calling order. you need to set the source code first');\n",
       "                        return;\n",
       "                    }\n",
       "                    window.eval(payload.response);\n",
       "                    window.Slider.renderApp('dc56c274-6dc0-4803-b86b-536c47455ff3', tunnel);\n",
       "                });\n",
       "                tunnel.send_msg(JSON.stringify({ url: '/get_source_code', params: null, id: 'get_source_code' }));\n",
       "                return true;\n",
       "            }\n",
       "            repeatUntilSuccess(setupSliderApp, 50, 10);\n",
       "            "
      ],
      "text/plain": [
       "<IPython.core.display.Javascript object>"
      ]
     },
     "metadata": {},
     "output_type": "display_data"
    },
    {
     "data": {
      "text/plain": [
       "<sm_annotator.slider.SliderApp at 0x7ffa7d196460>"
      ]
     },
     "execution_count": 13,
     "metadata": {},
     "output_type": "execute_result"
    }
   ],
   "source": [
    "from sm_annotator.prelude import Annotator, SMVisualizer, widgets, GRAMSAnnotatorAssistant, SliderApp\n",
    "\n",
    "qnodes = grams.qnodes.cache_dict()\n",
    "wdprops = grams.wdprops\n",
    "wdclasses = grams.wdclasses.cache_dict()\n",
    "\n",
    "assistant = GRAMSAnnotatorAssistant([\n",
    "    dict(table=table, sg=annotation.sg, dg=annotation.dg)\n",
    "    for annotation, (sms, table) in zip(annotations, gt)\n",
    "], qnodes, wdprops)\n",
    "\n",
    "sm_visualizer_inputs_slider = [\n",
    "    dict(description='', args=(table.id, '', WikidataSemanticModelHelper.minify_sm(sms[0]), WikidataSemanticModelHelper.minify_sm(annotation.sm), table, True)) \n",
    "    for annotation, (sms, table) in zip(annotations, gt)\n",
    "]\n",
    "sm_visualizer = SMVisualizer(qnodes, wdclasses, wdprops, cwd / \"ground-truth\", \n",
    "                             eshost='', username='', password='', dev=False, assistant=assistant)\n",
    "slider = SliderApp(sm_visualizer, sm_visualizer.visualize)\n",
    "slider.render(same_tab=True)"
   ]
  },
  {
   "cell_type": "code",
   "execution_count": 15,
   "metadata": {},
   "outputs": [],
   "source": [
    "slider.set_data(sm_visualizer_inputs_slider)"
   ]
  },
  {
   "cell_type": "code",
   "execution_count": null,
   "metadata": {},
   "outputs": [],
   "source": []
  }
 ],
 "metadata": {
  "kernelspec": {
   "display_name": "grams",
   "language": "python",
   "name": "grams"
  },
  "language_info": {
   "codemirror_mode": {
    "name": "ipython",
    "version": 3
   },
   "file_extension": ".py",
   "mimetype": "text/x-python",
   "name": "python",
   "nbconvert_exporter": "python",
   "pygments_lexer": "ipython3",
   "version": "3.8.5"
  }
 },
 "nbformat": 4,
 "nbformat_minor": 4
}
