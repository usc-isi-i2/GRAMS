{
 "cells": [
  {
   "cell_type": "code",
   "execution_count": 1,
   "metadata": {},
   "outputs": [],
   "source": [
    "import glob, sys\n",
    "\n",
    "from omegaconf import OmegaConf\n",
    "from tqdm.auto import tqdm\n",
    "from grams.prelude import GRAMS, ROOT_DIR, DATA_DIR, I, O, M, WikidataSemanticModelHelper\n",
    "sys.path.append(str(ROOT_DIR / \"sm_annotator\"))"
   ]
  },
  {
   "cell_type": "code",
   "execution_count": 2,
   "metadata": {
    "pycharm": {
     "name": "#%%\n"
    }
   },
   "outputs": [],
   "source": [
    "cfg = OmegaConf.load(ROOT_DIR / \"grams.yaml\")\n",
    "grams = GRAMS(DATA_DIR, cfg)"
   ]
  },
  {
   "cell_type": "code",
   "execution_count": 3,
   "metadata": {
    "pycharm": {
     "name": "#%% Run Novartis related tables and show the results\n"
    }
   },
   "outputs": [],
   "source": [
    "cwd = ROOT_DIR / \"examples/t2dv2\"\n",
    "tables = [I.W2WTable.from_csv_file(infile) for infile in glob.glob(str(cwd / \"tables/*.csv\")) if infile.find(\"table_linker\") == -1]"
   ]
  },
  {
   "cell_type": "code",
   "execution_count": 4,
   "metadata": {
    "pycharm": {
     "name": "#%%\n"
    }
   },
   "outputs": [
    {
     "data": {
      "application/vnd.jupyter.widget-view+json": {
       "model_id": "2c332ca874d340bd9d6e4a95bfb800a9",
       "version_major": 2,
       "version_minor": 0
      },
      "text/plain": [
       "  0%|          | 0/1 [00:00<?, ?it/s]"
      ]
     },
     "metadata": {},
     "output_type": "display_data"
    }
   ],
   "source": [
    "annotations = [grams.annotate(table) for table in tqdm(tables)]"
   ]
  },
  {
   "cell_type": "code",
   "execution_count": 5,
   "metadata": {
    "pycharm": {
     "name": "#%% To get the performance, use the\n"
    }
   },
   "outputs": [
    {
     "data": {
      "application/vnd.jupyter.widget-view+json": {
       "model_id": "3c0cf7e3b3354a3c9d964158d59fa1c8",
       "version_major": 2,
       "version_minor": 0
      },
      "text/plain": [
       "Output()"
      ]
     },
     "metadata": {},
     "output_type": "display_data"
    },
    {
     "data": {
      "application/vnd.jupyter.widget-view+json": {
       "model_id": "e63e562d61864483985b9bce4c7bf24e",
       "version_major": 2,
       "version_minor": 0
      },
      "text/plain": [
       "SlowTunnelWidget(js_endpoint=(0, ''), py_endpoint=(0, ''), tunnel_id='f4bb67be-14b9-4931-9fbe-2313f6fc1a3d')"
      ]
     },
     "metadata": {},
     "output_type": "display_data"
    },
    {
     "data": {
      "application/vnd.jupyter.widget-view+json": {
       "model_id": "42a2c0e7f0564b93a2e54cfb34d16291",
       "version_major": 2,
       "version_minor": 0
      },
      "text/plain": [
       "HTML(value='<div id=\"e1da0f57-7287-414b-bb5c-06b0bbc57d9f\"></div>')"
      ]
     },
     "metadata": {},
     "output_type": "display_data"
    },
    {
     "data": {
      "application/javascript": [
       "\n",
       "                \n",
       "    function repeatUntilSuccess(fn, timeout, maxTry) {\n",
       "        if (fn() === true) {\n",
       "            return;\n",
       "        }\n",
       "        if (maxTry === undefined) {\n",
       "            maxTry = 10;\n",
       "        }\n",
       "        if (maxTry === 0) {\n",
       "            console.error(\"Max retries error\");\n",
       "            alert(\"max retries error\");\n",
       "            throw new Error(\"Max retries error\");\n",
       "        } else {\n",
       "            setTimeout(function () {\n",
       "                repeatUntilSuccess(fn, timeout, maxTry - 1);\n",
       "            }, timeout);\n",
       "        }\n",
       "    }\n",
       "    \n",
       "                if (window.IPyApps === undefined) {\n",
       "                    window.IPyApps = new Map();\n",
       "                }\n",
       "                \n",
       "                function setupAppe1da0f577287414bbb5c06b0bbc57d9f() {\n",
       "                    if (window.IPyCallback === undefined) {\n",
       "                        return false;\n",
       "                    }\n",
       "                    let tunnel = window.IPyCallback.get('f4bb67be-14b9-4931-9fbe-2313f6fc1a3d');\n",
       "                    if (tunnel === undefined) {\n",
       "                        return false;\n",
       "                    }\n",
       "                    \n",
       "                    // use the tunnel first to send out the code, after the application is rendered, the listening function \n",
       "                    // is going to be replaced by the listener in the application, so we don't have to worry.\n",
       "                    tunnel.on_receive(function (version, msg) {\n",
       "                        let payload = JSON.parse(msg);\n",
       "                        if (payload.id !== 'get_source_code') {\n",
       "                            alert('invalid calling order. you need to set the source code first');\n",
       "                            console.error(\"invalid call order. waiting for source code but get:\", payload);\n",
       "                            return;\n",
       "                        }\n",
       "                        eval(payload.response);\n",
       "                        let shadowDOM = true;\n",
       "                        window.Annotator.renderApp('e1da0f57-7287-414b-bb5c-06b0bbc57d9f', tunnel, undefined, shadowDOM);\n",
       "                    });\n",
       "                    tunnel.send_msg(JSON.stringify({ url: '/get_source_code', params: null, id: 'get_source_code' }));\n",
       "                    return true;\n",
       "                }\n",
       "                repeatUntilSuccess(setupAppe1da0f577287414bbb5c06b0bbc57d9f, 50, 10);\n",
       "            "
      ],
      "text/plain": [
       "<IPython.core.display.Javascript object>"
      ]
     },
     "metadata": {},
     "output_type": "display_data"
    },
    {
     "data": {
      "application/vnd.jupyter.widget-view+json": {
       "model_id": "9fb7086a3f034c5cac81f7b3be9d32e0",
       "version_major": 2,
       "version_minor": 0
      },
      "text/plain": [
       "SlowTunnelWidget(js_endpoint=(0, ''), py_endpoint=(0, ''), tunnel_id='37b37e69-898f-46af-8f32-951a73617479')"
      ]
     },
     "metadata": {},
     "output_type": "display_data"
    },
    {
     "data": {
      "application/javascript": [
       "\n",
       "            \n",
       "    function repeatUntilSuccess(fn, timeout, maxTry) {\n",
       "        if (fn() === true) {\n",
       "            return;\n",
       "        }\n",
       "        if (maxTry === undefined) {\n",
       "            maxTry = 10;\n",
       "        }\n",
       "        if (maxTry === 0) {\n",
       "            console.error(\"Max retries error\");\n",
       "            alert(\"max retries error\");\n",
       "            throw new Error(\"Max retries error\");\n",
       "        } else {\n",
       "            setTimeout(function () {\n",
       "                repeatUntilSuccess(fn, timeout, maxTry - 1);\n",
       "            }, timeout);\n",
       "        }\n",
       "    }\n",
       "    \n",
       "            \n",
       "            function setupSliderApp() {\n",
       "                let container = window.document.getElementById('e1da0f57-7287-414b-bb5c-06b0bbc57d9f');\n",
       "                if (container === null || window.IPyCallback === undefined) {\n",
       "                    return false;\n",
       "                }\n",
       "                \n",
       "                let tunnel = window.IPyCallback.get('37b37e69-898f-46af-8f32-951a73617479');\n",
       "                if (tunnel === undefined) {\n",
       "                    return false;\n",
       "                }\n",
       "                \n",
       "                let div = window.document.createElement(\"div\");\n",
       "                div.id = 'b3b92e30-5679-4ecd-94f9-6f775829de76';\n",
       "                div.style = \"margin-bottom: 8px\";\n",
       "                container.parentElement.prepend(div);\n",
       "                \n",
       "                // use the tunnel first to send out the code, after the application is rendered, the listening function \n",
       "                // is going to be replaced by the listener in the application, so we don't have to worry.\n",
       "                tunnel.on_receive(function (version, msg) {\n",
       "                    let payload = JSON.parse(msg);\n",
       "                    if (payload.id !== 'get_source_code') {\n",
       "                        alert('invalid calling order. you need to set the source code first');\n",
       "                        return;\n",
       "                    }\n",
       "                    window.eval(payload.response);\n",
       "                    window.Slider.renderApp('b3b92e30-5679-4ecd-94f9-6f775829de76', tunnel);\n",
       "                });\n",
       "                tunnel.send_msg(JSON.stringify({ url: '/get_source_code', params: null, id: 'get_source_code' }));\n",
       "                return true;\n",
       "            }\n",
       "            repeatUntilSuccess(setupSliderApp, 50, 10);\n",
       "            "
      ],
      "text/plain": [
       "<IPython.core.display.Javascript object>"
      ]
     },
     "metadata": {},
     "output_type": "display_data"
    },
    {
     "data": {
      "text/plain": [
       "<sm_annotator.annotator.BatchAnnotator at 0x7fe1327ca8b0>"
      ]
     },
     "execution_count": 5,
     "metadata": {},
     "output_type": "execute_result"
    }
   ],
   "source": [
    "from sm_annotator.prelude import Annotator, BatchAnnotator, widgets, GRAMSAnnotatorAssistant, SliderApp\n",
    "\n",
    "qnodes = grams.qnodes.cache_dict()\n",
    "wdprops = grams.wdprops\n",
    "wdclasses = grams.wdclasses.cache_dict()\n",
    "\n",
    "assistant = GRAMSAnnotatorAssistant([\n",
    "    dict(table=table, sg=annotation.sg, dg=annotation.dg)\n",
    "    for annotation, table in zip(annotations, tables)\n",
    "], qnodes, wdprops)\n",
    "annotator = Annotator(qnodes, wdclasses, wdprops, cwd / \"ground-truth\", \n",
    "                          eshost='http://mira.isi.edu:9200', username='', password='', dev=False, assistant=assistant)\n",
    "batch_annotator = BatchAnnotator(annotator)\n",
    "batch_annotator.render(same_tab=True)"
   ]
  },
  {
   "cell_type": "code",
   "execution_count": 6,
   "metadata": {},
   "outputs": [],
   "source": [
    "batch_annotator.batch_annotate([\n",
    "    (table.get_friendly_fs_id(), \"\", table)\n",
    "    for table in tables\n",
    "], start_index=0)"
   ]
  },
  {
   "cell_type": "code",
   "execution_count": 13,
   "metadata": {},
   "outputs": [
    {
     "name": "stdout",
     "output_type": "stream",
     "text": [
      "29414811_2_4773219892816395776.json\n"
     ]
    }
   ],
   "source": [
    "!ls \"{cwd}/ground-truth\""
   ]
  }
 ],
 "metadata": {
  "kernelspec": {
   "display_name": "grams",
   "language": "python",
   "name": "grams"
  },
  "language_info": {
   "codemirror_mode": {
    "name": "ipython",
    "version": 3
   },
   "file_extension": ".py",
   "mimetype": "text/x-python",
   "name": "python",
   "nbconvert_exporter": "python",
   "pygments_lexer": "ipython3",
   "version": "3.8.5"
  }
 },
 "nbformat": 4,
 "nbformat_minor": 4
}
