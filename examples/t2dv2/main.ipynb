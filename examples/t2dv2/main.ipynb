{
 "cells": [
  {
   "cell_type": "code",
   "execution_count": 1,
   "metadata": {},
   "outputs": [],
   "source": [
    "import glob, sys\n",
    "\n",
    "from omegaconf import OmegaConf\n",
    "from tqdm.auto import tqdm\n",
    "from grams.prelude import GRAMS, ROOT_DIR, DATA_DIR, I, WikidataSemanticModelHelper\n",
    "from sm.prelude import M, O"
   ]
  },
  {
   "cell_type": "code",
   "execution_count": 2,
   "metadata": {
    "pycharm": {
     "name": "#%%\n"
    }
   },
   "outputs": [],
   "source": [
    "cfg = OmegaConf.load(ROOT_DIR / \"grams.yaml\")\n",
    "grams = GRAMS(DATA_DIR, cfg)"
   ]
  },
  {
   "cell_type": "code",
   "execution_count": 3,
   "metadata": {
    "pycharm": {
     "name": "#%% Run Novartis related tables and show the results\n"
    }
   },
   "outputs": [],
   "source": [
    "cwd = ROOT_DIR / \"examples/t2dv2\"\n",
    "tables = [I.LinkedTable.from_csv_file(infile) for infile in glob.glob(str(cwd / \"tables/*.csv\")) if infile.find(\"table_linker\") == -1]"
   ]
  },
  {
   "cell_type": "code",
   "execution_count": 4,
   "metadata": {
    "pycharm": {
     "name": "#%%\n"
    }
   },
   "outputs": [
    {
     "data": {
      "application/vnd.jupyter.widget-view+json": {
       "model_id": "d5da58ce703d43b7bcc8c63ba66b860b",
       "version_major": 2,
       "version_minor": 0
      },
      "text/plain": [
       "  0%|          | 0/1 [00:00<?, ?it/s]"
      ]
     },
     "metadata": {},
     "output_type": "display_data"
    }
   ],
   "source": [
    "annotations = [grams.annotate(table, verbose=True) for table in tqdm(tables)]"
   ]
  },
  {
   "cell_type": "raw",
   "metadata": {
    "pycharm": {
     "name": "#%% To get the performance, use the\n"
    }
   },
   "source": [
    "from sm_annotator.prelude import Annotator, BatchAnnotator, widgets, GRAMSAnnotatorAssistant, SliderApp\n",
    "\n",
    "qnodes = grams.qnodes.cache_dict()\n",
    "wdprops = grams.wdprops\n",
    "wdclasses = grams.wdclasses.cache_dict()\n",
    "\n",
    "assistant = GRAMSAnnotatorAssistant([\n",
    "    dict(table=table, sg=annotation.sg, dg=annotation.dg)\n",
    "    for annotation, table in zip(annotations, tables)\n",
    "], qnodes, wdprops)\n",
    "annotator = Annotator(qnodes, wdclasses, wdprops, cwd / \"ground-truth\", \n",
    "                          eshost='http://mira.isi.edu:9200', username='', password='', dev=False, assistant=assistant)\n",
    "batch_annotator = BatchAnnotator(annotator)\n",
    "batch_annotator.render(same_tab=True)"
   ]
  },
  {
   "cell_type": "code",
   "execution_count": 6,
   "metadata": {},
   "outputs": [],
   "source": [
    "batch_annotator.batch_annotate([\n",
    "    (table.get_friendly_fs_id(), \"\", table)\n",
    "    for table in tables\n",
    "], start_index=0)"
   ]
  },
  {
   "cell_type": "code",
   "execution_count": 13,
   "metadata": {},
   "outputs": [
    {
     "name": "stdout",
     "output_type": "stream",
     "text": [
      "29414811_2_4773219892816395776.json\n"
     ]
    }
   ],
   "source": [
    "!ls \"{cwd}/ground-truth\""
   ]
  }
 ],
 "metadata": {
  "kernelspec": {
   "display_name": "grams",
   "language": "python",
   "name": "grams"
  },
  "language_info": {
   "codemirror_mode": {
    "name": "ipython",
    "version": 3
   },
   "file_extension": ".py",
   "mimetype": "text/x-python",
   "name": "python",
   "nbconvert_exporter": "python",
   "pygments_lexer": "ipython3",
   "version": "3.8.5"
  }
 },
 "nbformat": 4,
 "nbformat_minor": 4
}
